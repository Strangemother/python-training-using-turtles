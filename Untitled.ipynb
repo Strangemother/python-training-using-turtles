{
 "cells": [
  {
   "cell_type": "markdown",
   "id": "faf954c9-80a5-46b3-9d36-d05fbbd7bdc2",
   "metadata": {},
   "source": [
    "# Day 3"
   ]
  },
  {
   "cell_type": "markdown",
   "id": "9521139b-aa53-4a38-88ce-b22799a4d1da",
   "metadata": {},
   "source": [
    "+ create vars\n",
    "+ import the `primary` module\n",
    "\n",
    "    hint remember the dir function can help inspect a module\r\n",
    "    hint remember help() can print the doc string of a functoni"
   ]
  },
  {
   "cell_type": "code",
   "execution_count": 618,
   "id": "d8efe878-1ffb-4146-b1d0-a0ff99f851cb",
   "metadata": {},
   "outputs": [],
   "source": [
    "sid = 'w489908'\n",
    "color = 'blue'"
   ]
  },
  {
   "cell_type": "code",
   "execution_count": 619,
   "id": "48c5ef11-7118-4042-ad7f-66555720164a",
   "metadata": {},
   "outputs": [
    {
     "name": "stdout",
     "output_type": "stream",
     "text": [
      "Excellent. Find the _first function_.\n"
     ]
    }
   ],
   "source": [
    "from importlib import reload;\n",
    "reload(primary)\n",
    "import primary\n"
   ]
  },
  {
   "cell_type": "code",
   "execution_count": 620,
   "id": "9ecb1618-a48e-432a-b8af-85b313f7a2f3",
   "metadata": {},
   "outputs": [
    {
     "data": {
      "text/plain": [
       "['COLORS',\n",
       " 'Primary',\n",
       " '__builtins__',\n",
       " '__cached__',\n",
       " '__doc__',\n",
       " '__file__',\n",
       " '__loader__',\n",
       " '__name__',\n",
       " '__package__',\n",
       " '__spec__',\n",
       " 'first_function',\n",
       " 'sleep']"
      ]
     },
     "execution_count": 620,
     "metadata": {},
     "output_type": "execute_result"
    }
   ],
   "source": [
    "dir(primary)"
   ]
  },
  {
   "cell_type": "code",
   "execution_count": 621,
   "id": "d6c3e509-29fa-44da-88e6-9643c76dbdd8",
   "metadata": {},
   "outputs": [
    {
     "name": "stdout",
     "output_type": "stream",
     "text": [
      "Help on function first_function in module primary:\n",
      "\n",
      "first_function()\n",
      "    The _first function_ returns an instance of the \"primary\" game,\n",
      "    Keep hold of this reference:\n",
      "    \n",
      "    Usage:\n",
      "    \n",
      "        game = first_function()\n",
      "\n"
     ]
    }
   ],
   "source": [
    "help(primary.first_function)\n",
    "game = primary.first_function()"
   ]
  },
  {
   "cell_type": "code",
   "execution_count": 622,
   "id": "a31696e9-88ee-47cf-b93d-273b1473ce6c",
   "metadata": {},
   "outputs": [
    {
     "name": "stdout",
     "output_type": "stream",
     "text": [
      "Help on Primary in module primary object:\n",
      "\n",
      "class Primary(builtins.object)\n",
      " |  The Primary class maintains a session of the game.\n",
      " |  It consists of _methods_ (functions of a class), attributes (vars)\n",
      " |  and other useful bits.\n",
      " |  \n",
      " |  Step 1: create an instance of primary:\n",
      " |  \n",
      " |      from primary import Primary\n",
      " |      game = Primary()\n",
      " |      help(game)\n",
      " |      # this message.\n",
      " |  \n",
      " |  Step 2: run step one. Attempt to discover this method using python.\n",
      " |          (some great ones exist within the `builtins` module)\n",
      " |  \n",
      " |  Methods defined here:\n",
      " |  \n",
      " |  check_human(self, human)\n",
      " |  \n",
      " |  run_step_1(self, sid=None)\n",
      " |  \n",
      " |  step_10(self)\n",
      " |  \n",
      " |  step_5(self, func)\n",
      " |  \n",
      " |  step_6(self, func)\n",
      " |  \n",
      " |  step_7(self, class_)\n",
      " |  \n",
      " |  step_8(self, value)\n",
      " |  \n",
      " |  step_9(self, class_)\n",
      " |  \n",
      " |  step_four(self, value)\n",
      " |  \n",
      " |  step_three(self, convert_func)\n",
      " |  \n",
      " |  step_two(self, v)\n",
      " |  \n",
      " |  ----------------------------------------------------------------------\n",
      " |  Data descriptors defined here:\n",
      " |  \n",
      " |  __dict__\n",
      " |      dictionary for instance variables (if defined)\n",
      " |  \n",
      " |  __weakref__\n",
      " |      list of weak references to the object (if defined)\n",
      " |  \n",
      " |  ----------------------------------------------------------------------\n",
      " |  Data and other attributes defined here:\n",
      " |  \n",
      " |  COLORS = ['red', 'green', 'blue']\n",
      " |  \n",
      " |  step_four_answer = 42\n",
      " |  \n",
      " |  step_four_unsatified = True\n",
      "\n"
     ]
    }
   ],
   "source": [
    "help(game)"
   ]
  },
  {
   "cell_type": "code",
   "execution_count": 623,
   "id": "3a3cc1b2-0629-4e94-817c-c3ee0b0675d7",
   "metadata": {},
   "outputs": [
    {
     "name": "stdout",
     "output_type": "stream",
     "text": [
      "Great! Step one achieved. To proceed, rerun this function, providing your SID\n"
     ]
    }
   ],
   "source": [
    "game.run_step_1()"
   ]
  },
  {
   "cell_type": "code",
   "execution_count": 624,
   "id": "48d27da4-0a01-444c-8be8-2a34febe011e",
   "metadata": {},
   "outputs": [],
   "source": [
    "cipher = game.run_step_1(sid)"
   ]
  },
  {
   "cell_type": "code",
   "execution_count": 625,
   "id": "b47c040e-48d0-4be7-9a47-2dcf37a7b7ba",
   "metadata": {},
   "outputs": [
    {
     "name": "stdout",
     "output_type": "stream",
     "text": [
      "['blue', 'red', 'green', 'blue']\n"
     ]
    },
    {
     "data": {
      "text/plain": [
       "True"
      ]
     },
     "execution_count": 625,
     "metadata": {},
     "output_type": "execute_result"
    }
   ],
   "source": [
    "human = {\n",
    "    'sid': sid,\n",
    "    'cipher': cipher,\n",
    "    'color': color,\n",
    "}\n",
    "\n",
    "human['colors'] = [color] + primary.COLORS\n",
    "print(human['colors'])\n",
    "game.check_human(human)"
   ]
  },
  {
   "cell_type": "markdown",
   "id": "d64c9079-5f1d-4323-862c-d9b51a723e66",
   "metadata": {},
   "source": [
    "Run the step_two function 100 times, add 1 to the ciper upon each step"
   ]
  },
  {
   "cell_type": "code",
   "execution_count": 626,
   "id": "bf7e1c55-ae3b-4b80-bf30-a4476f9f15e3",
   "metadata": {},
   "outputs": [],
   "source": [
    "for i in range(100):\n",
    "    game.step_two(cipher + 1)"
   ]
  },
  {
   "cell_type": "markdown",
   "id": "2a622417-c15c-4848-84ee-37e036bc271b",
   "metadata": {},
   "source": [
    "Create a function to accept the number and convert it to a special string:\n",
    "`100`, `\"1_0_0``"
   ]
  },
  {
   "cell_type": "code",
   "execution_count": 627,
   "id": "868ddfdf-7a6c-4d91-a4d7-8034bb18fc64",
   "metadata": {},
   "outputs": [],
   "source": [
    "def fancy_convert(value):\n",
    "    return '_'.join(str(value))"
   ]
  },
  {
   "cell_type": "code",
   "execution_count": 628,
   "id": "1d8a81cf-3ff8-4c1a-8176-251bc0c03913",
   "metadata": {},
   "outputs": [],
   "source": [
    "step_three_result = game.step_three(fancy_convert)"
   ]
  },
  {
   "cell_type": "code",
   "execution_count": 629,
   "id": "2ed9876d-a79c-43e2-85f8-6d56fdc6d26a",
   "metadata": {},
   "outputs": [
    {
     "name": "stdout",
     "output_type": "stream",
     "text": [
      "Thinking about it. Try again later.\n",
      "Thinking about it. Try again later.\n",
      "Thinking about it. Try again later.\n",
      "Thinking about it. Try again later.\n",
      "Thinking about it. Try again later.\n",
      "Thinking about it. Try again later.\n",
      "Thinking about it. Try again later.\n",
      "Thinking about it. Try again later.\n",
      "Thinking about it. Try again later.\n",
      "Thinking about it. Try again later.\n",
      "Thinking about it. Try again later.\n",
      "Thinking about it. Try again later.\n",
      "Thinking about it. Try again later.\n",
      "Thinking about it. Try again later.\n",
      "Thinking about it. Try again later.\n",
      "Thinking about it. Try again later.\n",
      "Thinking about it. Try again later.\n",
      "Okay.. Okay - Try this number.\n",
      "step_four_answer=64131021854276640\n"
     ]
    }
   ],
   "source": [
    "while game.step_four_unsatified:\n",
    "    step_four_answer = game.step_four(step_three_result)\n",
    "print(f'{step_four_answer=}')"
   ]
  },
  {
   "cell_type": "markdown",
   "id": "86803238-8f4a-4ade-aa40-c84965789972",
   "metadata": {},
   "source": [
    "Write a function to accept many arguments, and return a list"
   ]
  },
  {
   "cell_type": "code",
   "execution_count": 630,
   "id": "5a6a4db6-201d-4270-804c-43243163a934",
   "metadata": {},
   "outputs": [
    {
     "name": "stdout",
     "output_type": "stream",
     "text": [
      "('6', '4', '1', '3', '1', '0', '2', '1', '8', '5', '4', '2', '7', '6', '6', '4', '0')\n",
      "Great!\n"
     ]
    }
   ],
   "source": [
    "def clean_list(*args):\n",
    "    # args enter as a tuple\n",
    "    print(args)\n",
    "    return list(args)[0:-1]\n",
    "    \n",
    "step_5_result = game.step_5(clean_list)"
   ]
  },
  {
   "cell_type": "code",
   "execution_count": 631,
   "id": "f5c8e9e0-0942-41b7-8f97-85a0a61b07ff",
   "metadata": {},
   "outputs": [
    {
     "name": "stdout",
     "output_type": "stream",
     "text": [
      "Great! (60, 80, 5, 70, 60, 60)\n"
     ]
    }
   ],
   "source": [
    "def cleaner_func(*args):\n",
    "    res = ()\n",
    "    # remember to recast ints if required.\n",
    "    for i, arg in enumerate(list(args)[0:-1]):\n",
    "        v = int(arg)\n",
    "        if v < 5: \n",
    "            continue\n",
    "        if v > 5:\n",
    "            v *= step_5_result\n",
    "        res += (v,)\n",
    "    return res \n",
    "    \n",
    "step_6_answer = game.step_6(cleaner_func)"
   ]
  },
  {
   "cell_type": "code",
   "execution_count": 632,
   "id": "95a8aebc-d916-41dd-828b-a44869581894",
   "metadata": {},
   "outputs": [
    {
     "data": {
      "text/plain": [
       "(64131021854276640, (60, 80, 5, 70, 60, 60))"
      ]
     },
     "execution_count": 632,
     "metadata": {},
     "output_type": "execute_result"
    }
   ],
   "source": [
    "game.step_four_answer, game.step_6_results"
   ]
  },
  {
   "cell_type": "markdown",
   "id": "b86c611f-b9c8-43f1-a084-6118c0e77dd7",
   "metadata": {},
   "source": [
    "Write a class with a method containing the exact same functionality and name."
   ]
  },
  {
   "cell_type": "code",
   "execution_count": 633,
   "id": "f2558849-dced-4962-97cc-b449db53b852",
   "metadata": {},
   "outputs": [
    {
     "data": {
      "text/plain": [
       "(60, 80, 5, 70, 60, 60)"
      ]
     },
     "execution_count": 633,
     "metadata": {},
     "output_type": "execute_result"
    }
   ],
   "source": [
    "class MyClass(object):\n",
    "\n",
    "    def __init__(self, **kwargs):\n",
    "        self.__dict__.update(kwargs)\n",
    "        \n",
    "    def cleaner_func(self, *args):\n",
    "        res = ()\n",
    "        # remember to recast ints if required.\n",
    "        for i, arg in enumerate(list(args)[0:-1]):\n",
    "            v = int(arg)\n",
    "            if v < 5: \n",
    "                continue\n",
    "            if v > 5:\n",
    "                v *= step_5_result\n",
    "            res += (v,)\n",
    "        return res \n",
    "\n",
    "game.step_7(MyClass)"
   ]
  },
  {
   "cell_type": "markdown",
   "id": "03006982-50f1-4622-960b-10137bb3276b",
   "metadata": {},
   "source": [
    "Add a method to this class, to collect this result, and add all the values, to a sum:\n",
    "\n",
    "    answer = game.step_7(MyClass) # tuple of ints\n",
    "    game.step_8(sum_of_answers)"
   ]
  },
  {
   "cell_type": "code",
   "execution_count": 634,
   "id": "47d12863-7dee-46d1-bbe6-85456caaa397",
   "metadata": {},
   "outputs": [
    {
     "data": {
      "text/plain": [
       "(395, 415, 340, 405, 395, 395)"
      ]
     },
     "execution_count": 634,
     "metadata": {},
     "output_type": "execute_result"
    }
   ],
   "source": [
    "game.step_8(sum(game.step_7_results))"
   ]
  },
  {
   "cell_type": "code",
   "execution_count": 638,
   "id": "cea3bcd0-5c04-4afe-bfa8-feede8b3f54e",
   "metadata": {},
   "outputs": [
    {
     "data": {
      "text/plain": [
       "{'sid': 'w489908',\n",
       " 'colors': ['blue', 'red', 'green', 'blue'],\n",
       " 'cipher': 577179196688489726,\n",
       " 'session': <primary.Primary at 0x9607be0>,\n",
       " 'step_10': <bound method Primary.step_10 of <primary.Primary object at 0x0000000009607BE0>>}"
      ]
     },
     "execution_count": 638,
     "metadata": {},
     "output_type": "execute_result"
    }
   ],
   "source": [
    "item = game.step_9(MyClass)\n"
   ]
  },
  {
   "cell_type": "markdown",
   "id": "9570f473-60cf-4424-b585-d6e6615a3880",
   "metadata": {},
   "source": [
    "using the session within new item, call upon step 10 to return a dict.\n",
    "merge that with the above; removing 'session'\n",
    "provde to step 11."
   ]
  },
  {
   "cell_type": "code",
   "execution_count": 636,
   "id": "4c2d75d9-6eb9-4b0b-839b-2d910af788ac",
   "metadata": {},
   "outputs": [
    {
     "name": "stdout",
     "output_type": "stream",
     "text": [
      "{'step_6_func_name': 'cleaner_func',\n",
      " 'step_6_result': (60, 80, 5, 70, 60, 60),\n",
      " 'step_7_results': (60, 80, 5, 70, 60, 60),\n",
      " 'step_8_result': {'step_8_result': 335},\n",
      " 'step_five_results': 10,\n",
      " 'step_four_answer': 64131021854276640,\n",
      " 'step_three_result': '1_1_5_4_3_5_8_3_9_3_3_7_6_9_7_9_4_5_3',\n",
      " 'step_three_value': 1154358393376979453}\n"
     ]
    }
   ],
   "source": [
    "step_10_results = item.session.step_10()\n",
    "from pprint import pprint\n",
    "pprint(step_10_results)"
   ]
  },
  {
   "cell_type": "code",
   "execution_count": 646,
   "id": "76e6b290-128c-48d8-8da5-198a924313f3",
   "metadata": {},
   "outputs": [
    {
     "name": "stdout",
     "output_type": "stream",
     "text": [
      "{'cipher': 577179196688489726,\n",
      " 'color': 'blue',\n",
      " 'colors': ['blue', 'red', 'green', 'blue'],\n",
      " 'sid': 'w489908',\n",
      " 'step_6_func_name': 'cleaner_func',\n",
      " 'step_6_result': (60, 80, 5, 70, 60, 60),\n",
      " 'step_7_results': (60, 80, 5, 70, 60, 60),\n",
      " 'step_8_result': {'step_8_result': 335},\n",
      " 'step_five_results': 10,\n",
      " 'step_four_answer': 64131021854276640,\n",
      " 'step_three_result': '1_1_5_4_3_5_8_3_9_3_3_7_6_9_7_9_4_5_3',\n",
      " 'step_three_value': 1154358393376979453}\n"
     ]
    }
   ],
   "source": [
    "step_11_result = step_10_results.copy()\n",
    "step_11_result.update(human)\n",
    "# step_11_result.pop('session')\n",
    "pprint(step_11_result)"
   ]
  },
  {
   "cell_type": "code",
   "execution_count": null,
   "id": "fb91f2b3-c4c4-4384-ae3e-8779b66d83d7",
   "metadata": {},
   "outputs": [],
   "source": [
    "url = game.get_endpoint()\n",
    "resp = requests.post(url, step_11_result)\n"
   ]
  }
 ],
 "metadata": {
  "kernelspec": {
   "display_name": "Python 3 (ipykernel)",
   "language": "python",
   "name": "python3"
  },
  "language_info": {
   "codemirror_mode": {
    "name": "ipython",
    "version": 3
   },
   "file_extension": ".py",
   "mimetype": "text/x-python",
   "name": "python",
   "nbconvert_exporter": "python",
   "pygments_lexer": "ipython3",
   "version": "3.8.0"
  }
 },
 "nbformat": 4,
 "nbformat_minor": 5
}
